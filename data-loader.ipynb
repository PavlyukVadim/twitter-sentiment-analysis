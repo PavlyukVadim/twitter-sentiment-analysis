{
 "cells": [
  {
   "cell_type": "code",
   "execution_count": null,
   "metadata": {},
   "outputs": [],
   "source": [
    "# Get your keys at developer.twitter.com\n",
    "# And load them into file\n",
    "\n",
    "import json\n",
    "\n",
    "# Enter your keys/secrets as strings in the following fields\n",
    "credentials = {}\n",
    "credentials['CONSUMER_KEY'] = 'your_consumer_key'\n",
    "credentials['CONSUMER_SECRET'] = 'your_consumer_secret'\n",
    "credentials['ACCESS_TOKEN'] = 'your_access_token'\n",
    "credentials['ACCESS_SECRET'] = 'your_access_secret'\n",
    "\n",
    "# Save the credentials object to file\n",
    "with open('twitter_credentials.json', 'w') as file:\n",
    "    json.dump(credentials, file)\n"
   ]
  },
  {
   "cell_type": "code",
   "execution_count": 20,
   "metadata": {},
   "outputs": [
    {
     "output_type": "stream",
     "name": "stdout",
     "text": "user                            date                                               text  favorite_count\n0  Deadline_Media_  Tue May 26 12:35:09 +0000 2020  Запрос журналиста, блогера: https://t.co/KtvJP...               0\n1  Deadline_Media_  Tue May 26 12:30:20 +0000 2020  Запрос журналиста, блогера: https://t.co/9Ynwy...               0\n"
    }
   ],
   "source": [
    "# Import the Twython class\n",
    "from twython import Twython\n",
    "import json\n",
    "\n",
    "with open('twitter_credentials.json', 'r') as file:\n",
    "    creds = json.load(file)\n",
    "\n",
    "python_tweets = Twython(creds['CONSUMER_KEY'], creds['CONSUMER_SECRET'])\n",
    "\n",
    "import pandas as pd\n",
    "def get_tweets_dict(query, number_of_items):\n",
    "    dict_ = {\n",
    "        'user': [],\n",
    "        'date': [],\n",
    "        'text': [],\n",
    "        'favorite_count': []\n",
    "    }\n",
    "    results = python_tweets.cursor(python_tweets.search, **query)\n",
    "    for result in results:\n",
    "        dict_['user'].append(result['user']['screen_name'])\n",
    "        dict_['date'].append(result['created_at'])\n",
    "        dict_['text'].append(result['text'])\n",
    "        dict_['favorite_count'].append(result['favorite_count'])\n",
    "\n",
    "        if (len(dict_['user']) >= number_of_items):\n",
    "            return dict_\n",
    "    return dict_\n",
    "\n",
    "query = {\n",
    "    'q': 'query',\n",
    "    # 'result_type': 'popular',\n",
    "    'count': 1,\n",
    "    'lang': 'uk',\n",
    "}\n",
    "\n",
    "# print(get_data(query, 2))\n",
    "\n",
    "# Structure data in a pandas DataFrame for easier manipulation\n",
    "df = pd.DataFrame(get_tweets_dict(query, 2))\n",
    "df.sort_values(by='favorite_count', inplace = True, ascending = False)\n",
    "print(df.to_string())\n"
   ]
  },
  {
   "cell_type": "code",
   "execution_count": null,
   "metadata": {},
   "outputs": [],
   "source": []
  }
 ],
 "metadata": {
  "language_info": {
   "codemirror_mode": {
    "name": "ipython",
    "version": 3
   },
   "file_extension": ".py",
   "mimetype": "text/x-python",
   "name": "python",
   "nbconvert_exporter": "python",
   "pygments_lexer": "ipython3",
   "version": "3.7.5-final"
  },
  "orig_nbformat": 2,
  "kernelspec": {
   "name": "python37564bit0bb5f6c311484277905fd0791662116d",
   "display_name": "Python 3.7.5 64-bit"
  }
 },
 "nbformat": 4,
 "nbformat_minor": 2
}