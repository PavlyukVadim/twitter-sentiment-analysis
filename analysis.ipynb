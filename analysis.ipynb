{
 "cells": [
  {
   "cell_type": "code",
   "execution_count": 1,
   "metadata": {},
   "outputs": [],
   "source": [
    "try:\n",
    "    spark.stop()\n",
    "except:\n",
    "    pass\n",
    "\n",
    "# Using findspark to find automatically the spark folder\n",
    "import findspark\n",
    "findspark.init()\n",
    "\n",
    "from pyspark import SparkConf, SparkContext\n",
    "from pyspark.sql import SQLContext"
   ]
  },
  {
   "cell_type": "code",
   "execution_count": null,
   "metadata": {},
   "outputs": [],
   "source": [
    "import string\n",
    "\n",
    "# Remove punctuations from the sentence\n",
    "def remove_punctuation(sentence):\n",
    "    punctuations = list(string.punctuation)\n",
    "    extra_punctuations = ['.', '``', '...', '\\'s', '--', '-', 'n\\'t', '_', '–']\n",
    "    punctuations += extra_punctuations\n",
    "    filtered = [w for w in sentence.lower() if w not in punctuations]\n",
    "    return (\"\".join(filtered)).split()\n"
   ]
  },
  {
   "cell_type": "code",
   "execution_count": null,
   "metadata": {},
   "outputs": [],
   "source": [
    "from pyspark.ml.feature import HashingTF, IDF\n",
    "\n",
    "# Calculate term frequency–inverse document frequency for reflecting importance of words in Tweet.\n",
    "# :param data_rdd: input data rdd\n",
    "# :return: transformed dataframe\n",
    "\n",
    "def tf_idf(data_rdd):\n",
    "    data_rdd_df = data_rdd.toDF()\n",
    "    hashing_tf = HashingTF(inputCol = 'words', outputCol = 'tf_features')\n",
    "    tf_data = hashing_tf.transform(data_rdd_df)\n",
    "\n",
    "    idf_data = IDF(inputCol = 'tf_features', outputCol = 'features').fit(tf_data)\n",
    "    tf_idf_data = idf_data.transform(tf_data)\n",
    "    return tf_idf_data.select(['label', 'words', 'features'])\n"
   ]
  },
  {
   "cell_type": "code",
   "execution_count": null,
   "metadata": {},
   "outputs": [],
   "source": [
    "import numpy as np\n",
    "import pandas as pd\n",
    "\n",
    "from pyspark.ml.classification import NaiveBayes\n",
    "\n",
    "# Apply Naive Bayes Classifier to test data for predicting sentiment of Tweets.\n",
    "# :param training_df: Trained labelled data\n",
    "# :param testing_df: Test data\n",
    "# :return: transformed dataframe of predicted labels for tweets\n",
    "\n",
    "def naive_bayes_classifier(training_df, testing_df):\n",
    "    nb = NaiveBayes()\n",
    "    model = nb.fit(training_df)\n",
    "\n",
    "    return model.transform(testing_df).select(['label', 'words', 'prediction'])\n",
    "\n",
    "\n",
    "# Calculate accuracy of model against actual data\n",
    "def calculate_accuracy(result_df):\n",
    "    return 1.0 * result_df.filter(result_df.label == result_df.prediction).count() / result_df.count()\n",
    "\n",
    "\n",
    "# Generate Confusion Matrix for showing the performance of algorithm.\n",
    "# :param result_df: Dataframe returned from the model\n",
    "# :return: pandas dataframe\n",
    "def confusion_matrix(result_df):\n",
    "    true_positives = result_df.filter((result_df.label == 1.0) & (result_df.prediction == 1.0)).count()\n",
    "    true_negatives = result_df.filter((result_df.label == 0.0) & (result_df.prediction == 0.0)).count()\n",
    "    false_positives = result_df.filter((result_df.label == 0.0) & (result_df.prediction == 1.0)).count()\n",
    "    false_negatives = result_df.filter((result_df.label == 1.0) & (result_df.prediction == 0.0)).count()\n",
    "\n",
    "    # matrix = {\"Positive\": pd.Series([true_positives, false_positives], index=[\"Positive\", \"Negative\"]),\n",
    "    #           \"Negative\": pd.Series([false_negatives, true_negatives], index=[\"Positive\", \"Negative\"])}\n",
    "\n",
    "    # df = pd.DataFrame(matrix)\n",
    "    # df.columns.name = \"Actual / Predicted\"\n",
    "\n",
    "    print('true_positives', true_positives)\n",
    "    print('true_negatives', true_negatives)\n",
    "    print('false_positives', false_positives)\n",
    "    print('false_negatives', false_negatives)\n",
    "\n",
    "    # return df\n"
   ]
  }
 ],
 "metadata": {
  "language_info": {
   "codemirror_mode": {
    "name": "ipython",
    "version": 3
   },
   "file_extension": ".py",
   "mimetype": "text/x-python",
   "name": "python",
   "nbconvert_exporter": "python",
   "pygments_lexer": "ipython3",
   "version": "3.7.5-final"
  },
  "orig_nbformat": 2,
  "kernelspec": {
   "name": "python37564bit0bb5f6c311484277905fd0791662116d",
   "display_name": "Python 3.7.5 64-bit"
  }
 },
 "nbformat": 4,
 "nbformat_minor": 2
}